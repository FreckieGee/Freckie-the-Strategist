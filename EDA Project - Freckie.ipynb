{
 "cells": [
  {
   "cell_type": "code",
   "execution_count": 2,
   "id": "c72be0e4",
   "metadata": {},
   "outputs": [],
   "source": [
    "import pandas as pd"
   ]
  },
  {
   "cell_type": "code",
   "execution_count": 93,
   "id": "f9810c4b",
   "metadata": {},
   "outputs": [],
   "source": [
    "data = pd.read_csv('IT Survey (Recovered).csv')"
   ]
  },
  {
   "cell_type": "code",
   "execution_count": 94,
   "id": "8c5a1c53",
   "metadata": {},
   "outputs": [
    {
     "data": {
      "text/html": [
       "<div>\n",
       "<style scoped>\n",
       "    .dataframe tbody tr th:only-of-type {\n",
       "        vertical-align: middle;\n",
       "    }\n",
       "\n",
       "    .dataframe tbody tr th {\n",
       "        vertical-align: top;\n",
       "    }\n",
       "\n",
       "    .dataframe thead th {\n",
       "        text-align: right;\n",
       "    }\n",
       "</style>\n",
       "<table border=\"1\" class=\"dataframe\">\n",
       "  <thead>\n",
       "    <tr style=\"text-align: right;\">\n",
       "      <th></th>\n",
       "      <th>Age</th>\n",
       "      <th>Gender</th>\n",
       "      <th>City</th>\n",
       "      <th>Position</th>\n",
       "      <th>Total_Y</th>\n",
       "      <th>Level</th>\n",
       "      <th>Num_Skill</th>\n",
       "      <th>Main_Tech</th>\n",
       "      <th>Current_Salary</th>\n",
       "      <th>Prev_Salary</th>\n",
       "      <th>Status</th>\n",
       "      <th>MaxComp_size</th>\n",
       "      <th>Company_type</th>\n",
       "    </tr>\n",
       "  </thead>\n",
       "  <tbody>\n",
       "    <tr>\n",
       "      <th>0</th>\n",
       "      <td>37</td>\n",
       "      <td>Male</td>\n",
       "      <td>Aachen</td>\n",
       "      <td>Data Scientist</td>\n",
       "      <td>15.0</td>\n",
       "      <td>Senior</td>\n",
       "      <td>1</td>\n",
       "      <td>Python</td>\n",
       "      <td>70000</td>\n",
       "      <td>0</td>\n",
       "      <td>Full-time</td>\n",
       "      <td>1000</td>\n",
       "      <td>Production</td>\n",
       "    </tr>\n",
       "    <tr>\n",
       "      <th>1</th>\n",
       "      <td>24</td>\n",
       "      <td>Male</td>\n",
       "      <td>Aachen</td>\n",
       "      <td>Admin</td>\n",
       "      <td>3.0</td>\n",
       "      <td>Junior</td>\n",
       "      <td>1</td>\n",
       "      <td>Python</td>\n",
       "      <td>10164</td>\n",
       "      <td>0</td>\n",
       "      <td>Part-time</td>\n",
       "      <td>1000+</td>\n",
       "      <td>Research Institute</td>\n",
       "    </tr>\n",
       "    <tr>\n",
       "      <th>2</th>\n",
       "      <td>26</td>\n",
       "      <td>Male</td>\n",
       "      <td>Amsterdam</td>\n",
       "      <td>Data Scientist</td>\n",
       "      <td>2.0</td>\n",
       "      <td>Junior</td>\n",
       "      <td>1</td>\n",
       "      <td>Python</td>\n",
       "      <td>48000</td>\n",
       "      <td>43000</td>\n",
       "      <td>Full-time</td>\n",
       "      <td>100</td>\n",
       "      <td>Fintech</td>\n",
       "    </tr>\n",
       "    <tr>\n",
       "      <th>3</th>\n",
       "      <td>28</td>\n",
       "      <td>Female</td>\n",
       "      <td>Amsterdam</td>\n",
       "      <td>Admin</td>\n",
       "      <td>10.0</td>\n",
       "      <td>Senior</td>\n",
       "      <td>1</td>\n",
       "      <td>Business Intelligence</td>\n",
       "      <td>86000</td>\n",
       "      <td>75000</td>\n",
       "      <td>Full-time</td>\n",
       "      <td>1000+</td>\n",
       "      <td>Production</td>\n",
       "    </tr>\n",
       "    <tr>\n",
       "      <th>4</th>\n",
       "      <td>33</td>\n",
       "      <td>Male</td>\n",
       "      <td>Amsterdam</td>\n",
       "      <td>Software Engineer</td>\n",
       "      <td>8.0</td>\n",
       "      <td>Senior</td>\n",
       "      <td>1</td>\n",
       "      <td>C#</td>\n",
       "      <td>75000</td>\n",
       "      <td>56000</td>\n",
       "      <td>Full-time</td>\n",
       "      <td>1000+</td>\n",
       "      <td>Production</td>\n",
       "    </tr>\n",
       "  </tbody>\n",
       "</table>\n",
       "</div>"
      ],
      "text/plain": [
       "   Age  Gender       City          Position   Total_Y   Level  Num_Skill  \\\n",
       "0   37    Male     Aachen     Data Scientist     15.0  Senior          1   \n",
       "1   24    Male     Aachen              Admin      3.0  Junior          1   \n",
       "2   26    Male  Amsterdam     Data Scientist      2.0  Junior          1   \n",
       "3   28  Female  Amsterdam              Admin     10.0  Senior          1   \n",
       "4   33    Male  Amsterdam  Software Engineer      8.0  Senior          1   \n",
       "\n",
       "               Main_Tech  Current_Salary  Prev_Salary      Status  \\\n",
       "0                 Python           70000            0   Full-time   \n",
       "1                 Python           10164            0  Part-time    \n",
       "2                 Python           48000        43000   Full-time   \n",
       "3  Business Intelligence           86000        75000   Full-time   \n",
       "4                     C#           75000        56000   Full-time   \n",
       "\n",
       "  MaxComp_size        Company_type  \n",
       "0         1000          Production  \n",
       "1        1000+  Research Institute  \n",
       "2          100             Fintech  \n",
       "3        1000+          Production  \n",
       "4        1000+          Production  "
      ]
     },
     "execution_count": 94,
     "metadata": {},
     "output_type": "execute_result"
    }
   ],
   "source": [
    "data.head()"
   ]
  },
  {
   "cell_type": "code",
   "execution_count": 95,
   "id": "94a86ec1",
   "metadata": {},
   "outputs": [
    {
     "data": {
      "text/plain": [
       "(1249, 13)"
      ]
     },
     "execution_count": 95,
     "metadata": {},
     "output_type": "execute_result"
    }
   ],
   "source": [
    "data.shape"
   ]
  },
  {
   "cell_type": "code",
   "execution_count": 96,
   "id": "4f67133b",
   "metadata": {
    "scrolled": true
   },
   "outputs": [
    {
     "name": "stdout",
     "output_type": "stream",
     "text": [
      "<class 'pandas.core.frame.DataFrame'>\n",
      "RangeIndex: 1249 entries, 0 to 1248\n",
      "Data columns (total 13 columns):\n",
      " #   Column          Non-Null Count  Dtype  \n",
      "---  ------          --------------  -----  \n",
      " 0   Age             1249 non-null   int64  \n",
      " 1   Gender          1249 non-null   object \n",
      " 2   City            1249 non-null   object \n",
      " 3   Position        1249 non-null   object \n",
      " 4   Total_Y         1249 non-null   float64\n",
      " 5   Level           1249 non-null   object \n",
      " 6   Num_Skill       1249 non-null   int64  \n",
      " 7   Main_Tech       1249 non-null   object \n",
      " 8   Current_Salary  1249 non-null   int64  \n",
      " 9   Prev_Salary     1249 non-null   int64  \n",
      " 10  Status          1249 non-null   object \n",
      " 11  MaxComp_size    1249 non-null   object \n",
      " 12  Company_type    1249 non-null   object \n",
      "dtypes: float64(1), int64(4), object(8)\n",
      "memory usage: 127.0+ KB\n"
     ]
    }
   ],
   "source": [
    "data.info()"
   ]
  },
  {
   "cell_type": "code",
   "execution_count": 97,
   "id": "d877c3ff",
   "metadata": {},
   "outputs": [
    {
     "data": {
      "text/html": [
       "<div>\n",
       "<style scoped>\n",
       "    .dataframe tbody tr th:only-of-type {\n",
       "        vertical-align: middle;\n",
       "    }\n",
       "\n",
       "    .dataframe tbody tr th {\n",
       "        vertical-align: top;\n",
       "    }\n",
       "\n",
       "    .dataframe thead th {\n",
       "        text-align: right;\n",
       "    }\n",
       "</style>\n",
       "<table border=\"1\" class=\"dataframe\">\n",
       "  <thead>\n",
       "    <tr style=\"text-align: right;\">\n",
       "      <th></th>\n",
       "      <th>Age</th>\n",
       "      <th>Total_Y</th>\n",
       "      <th>Num_Skill</th>\n",
       "      <th>Current_Salary</th>\n",
       "      <th>Prev_Salary</th>\n",
       "    </tr>\n",
       "  </thead>\n",
       "  <tbody>\n",
       "    <tr>\n",
       "      <th>count</th>\n",
       "      <td>1249.000000</td>\n",
       "      <td>1249.000000</td>\n",
       "      <td>1249.000000</td>\n",
       "      <td>1249.00000</td>\n",
       "      <td>1.249000e+03</td>\n",
       "    </tr>\n",
       "    <tr>\n",
       "      <th>mean</th>\n",
       "      <td>32.518815</td>\n",
       "      <td>8.765012</td>\n",
       "      <td>1.133707</td>\n",
       "      <td>71641.36269</td>\n",
       "      <td>4.479885e+05</td>\n",
       "    </tr>\n",
       "    <tr>\n",
       "      <th>std</th>\n",
       "      <td>5.611758</td>\n",
       "      <td>5.249564</td>\n",
       "      <td>0.460517</td>\n",
       "      <td>32809.72679</td>\n",
       "      <td>1.414650e+07</td>\n",
       "    </tr>\n",
       "    <tr>\n",
       "      <th>min</th>\n",
       "      <td>20.000000</td>\n",
       "      <td>1.000000</td>\n",
       "      <td>1.000000</td>\n",
       "      <td>10001.00000</td>\n",
       "      <td>0.000000e+00</td>\n",
       "    </tr>\n",
       "    <tr>\n",
       "      <th>25%</th>\n",
       "      <td>29.000000</td>\n",
       "      <td>5.000000</td>\n",
       "      <td>1.000000</td>\n",
       "      <td>58000.00000</td>\n",
       "      <td>0.000000e+00</td>\n",
       "    </tr>\n",
       "    <tr>\n",
       "      <th>50%</th>\n",
       "      <td>32.000000</td>\n",
       "      <td>8.000000</td>\n",
       "      <td>1.000000</td>\n",
       "      <td>70000.00000</td>\n",
       "      <td>5.700000e+04</td>\n",
       "    </tr>\n",
       "    <tr>\n",
       "      <th>75%</th>\n",
       "      <td>35.000000</td>\n",
       "      <td>12.000000</td>\n",
       "      <td>1.000000</td>\n",
       "      <td>80000.00000</td>\n",
       "      <td>7.200000e+04</td>\n",
       "    </tr>\n",
       "    <tr>\n",
       "      <th>max</th>\n",
       "      <td>69.000000</td>\n",
       "      <td>40.000000</td>\n",
       "      <td>5.000000</td>\n",
       "      <td>850000.00000</td>\n",
       "      <td>5.000000e+08</td>\n",
       "    </tr>\n",
       "  </tbody>\n",
       "</table>\n",
       "</div>"
      ],
      "text/plain": [
       "               Age      Total_Y    Num_Skill  Current_Salary   Prev_Salary\n",
       "count  1249.000000  1249.000000  1249.000000      1249.00000  1.249000e+03\n",
       "mean     32.518815     8.765012     1.133707     71641.36269  4.479885e+05\n",
       "std       5.611758     5.249564     0.460517     32809.72679  1.414650e+07\n",
       "min      20.000000     1.000000     1.000000     10001.00000  0.000000e+00\n",
       "25%      29.000000     5.000000     1.000000     58000.00000  0.000000e+00\n",
       "50%      32.000000     8.000000     1.000000     70000.00000  5.700000e+04\n",
       "75%      35.000000    12.000000     1.000000     80000.00000  7.200000e+04\n",
       "max      69.000000    40.000000     5.000000    850000.00000  5.000000e+08"
      ]
     },
     "execution_count": 97,
     "metadata": {},
     "output_type": "execute_result"
    }
   ],
   "source": [
    "data.describe()"
   ]
  },
  {
   "cell_type": "code",
   "execution_count": 98,
   "id": "f11cb774",
   "metadata": {},
   "outputs": [
    {
     "data": {
      "text/plain": [
       "Index(['Age', 'Gender', 'City', 'Position ', 'Total_Y', 'Level', 'Num_Skill',\n",
       "       'Main_Tech', 'Current_Salary', 'Prev_Salary', 'Status', 'MaxComp_size',\n",
       "       'Company_type'],\n",
       "      dtype='object')"
      ]
     },
     "execution_count": 98,
     "metadata": {},
     "output_type": "execute_result"
    }
   ],
   "source": [
    "data.columns"
   ]
  },
  {
   "cell_type": "code",
   "execution_count": 99,
   "id": "3a39439a",
   "metadata": {},
   "outputs": [
    {
     "data": {
      "text/plain": [
       "Age               0\n",
       "Gender            0\n",
       "City              0\n",
       "Position          0\n",
       "Total_Y           0\n",
       "Level             0\n",
       "Num_Skill         0\n",
       "Main_Tech         0\n",
       "Current_Salary    0\n",
       "Prev_Salary       0\n",
       "Status            0\n",
       "MaxComp_size      0\n",
       "Company_type      0\n",
       "dtype: int64"
      ]
     },
     "execution_count": 99,
     "metadata": {},
     "output_type": "execute_result"
    }
   ],
   "source": [
    "data.isna().sum()"
   ]
  },
  {
   "cell_type": "code",
   "execution_count": 100,
   "id": "547e2882",
   "metadata": {},
   "outputs": [
    {
     "data": {
      "text/plain": [
       "<AxesSubplot:ylabel='Gender'>"
      ]
     },
     "execution_count": 100,
     "metadata": {},
     "output_type": "execute_result"
    },
    {
     "data": {
      "image/png": "[encoded data removed]",
      "text/plain": [
       "<Figure size 432x288 with 1 Axes>"
      ]
     },
     "metadata": {},
     "output_type": "display_data"
    }
   ],
   "source": [
    "data.Gender.value_counts().plot.pie()"
   ]
  },
  {
   "cell_type": "code",
   "execution_count": 101,
   "id": "e204441b",
   "metadata": {},
   "outputs": [
    {
     "data": {
      "text/plain": [
       "<AxesSubplot:>"
      ]
     },
     "execution_count": 101,
     "metadata": {},
     "output_type": "execute_result"
    },
    {
     "data": {
      "image/png": "[encoded data removed]",
      "text/plain": [
       "<Figure size 432x288 with 1 Axes>"
      ]
     },
     "metadata": {
      "needs_background": "light"
     },
     "output_type": "display_data"
    }
   ],
   "source": [
    "data.Age.value_counts().plot.bar()"
   ]
  },
  {
   "cell_type": "code",
   "execution_count": 102,
   "id": "37ef9e5f",
   "metadata": {},
   "outputs": [
    {
     "data": {
      "text/plain": [
       "1000+    630\n",
       "1000     405\n",
       "100      147\n",
       "10        65\n",
       "50         2\n",
       "Name: MaxComp_size, dtype: int64"
      ]
     },
     "execution_count": 102,
     "metadata": {},
     "output_type": "execute_result"
    }
   ],
   "source": [
    "data['MaxComp_size'].value_counts()"
   ]
  },
  {
   "cell_type": "code",
   "execution_count": 103,
   "id": "0c4bd942",
   "metadata": {},
   "outputs": [
    {
     "data": {
      "text/html": [
       "<div>\n",
       "<style scoped>\n",
       "    .dataframe tbody tr th:only-of-type {\n",
       "        vertical-align: middle;\n",
       "    }\n",
       "\n",
       "    .dataframe tbody tr th {\n",
       "        vertical-align: top;\n",
       "    }\n",
       "\n",
       "    .dataframe thead th {\n",
       "        text-align: right;\n",
       "    }\n",
       "</style>\n",
       "<table border=\"1\" class=\"dataframe\">\n",
       "  <thead>\n",
       "    <tr style=\"text-align: right;\">\n",
       "      <th></th>\n",
       "      <th>Age</th>\n",
       "      <th>Gender</th>\n",
       "      <th>City</th>\n",
       "      <th>Position</th>\n",
       "      <th>Total_Y</th>\n",
       "      <th>Level</th>\n",
       "      <th>Num_Skill</th>\n",
       "      <th>Main_Tech</th>\n",
       "      <th>Current_Salary</th>\n",
       "      <th>Prev_Salary</th>\n",
       "      <th>Status</th>\n",
       "      <th>MaxComp_size</th>\n",
       "      <th>Company_type</th>\n",
       "    </tr>\n",
       "  </thead>\n",
       "  <tbody>\n",
       "    <tr>\n",
       "      <th>0</th>\n",
       "      <td>37</td>\n",
       "      <td>Male</td>\n",
       "      <td>Aachen</td>\n",
       "      <td>Data Scientist</td>\n",
       "      <td>15.0</td>\n",
       "      <td>Senior</td>\n",
       "      <td>1</td>\n",
       "      <td>Python</td>\n",
       "      <td>70000</td>\n",
       "      <td>0</td>\n",
       "      <td>Full-time</td>\n",
       "      <td>1000</td>\n",
       "      <td>Production</td>\n",
       "    </tr>\n",
       "    <tr>\n",
       "      <th>1</th>\n",
       "      <td>24</td>\n",
       "      <td>Male</td>\n",
       "      <td>Aachen</td>\n",
       "      <td>Admin</td>\n",
       "      <td>3.0</td>\n",
       "      <td>Junior</td>\n",
       "      <td>1</td>\n",
       "      <td>Python</td>\n",
       "      <td>10164</td>\n",
       "      <td>0</td>\n",
       "      <td>Part-time</td>\n",
       "      <td>1000+</td>\n",
       "      <td>Research Institute</td>\n",
       "    </tr>\n",
       "    <tr>\n",
       "      <th>2</th>\n",
       "      <td>26</td>\n",
       "      <td>Male</td>\n",
       "      <td>Amsterdam</td>\n",
       "      <td>Data Scientist</td>\n",
       "      <td>2.0</td>\n",
       "      <td>Junior</td>\n",
       "      <td>1</td>\n",
       "      <td>Python</td>\n",
       "      <td>48000</td>\n",
       "      <td>43000</td>\n",
       "      <td>Full-time</td>\n",
       "      <td>100</td>\n",
       "      <td>Fintech</td>\n",
       "    </tr>\n",
       "    <tr>\n",
       "      <th>3</th>\n",
       "      <td>28</td>\n",
       "      <td>Female</td>\n",
       "      <td>Amsterdam</td>\n",
       "      <td>Admin</td>\n",
       "      <td>10.0</td>\n",
       "      <td>Senior</td>\n",
       "      <td>1</td>\n",
       "      <td>Business Intelligence</td>\n",
       "      <td>86000</td>\n",
       "      <td>75000</td>\n",
       "      <td>Full-time</td>\n",
       "      <td>1000+</td>\n",
       "      <td>Production</td>\n",
       "    </tr>\n",
       "    <tr>\n",
       "      <th>4</th>\n",
       "      <td>33</td>\n",
       "      <td>Male</td>\n",
       "      <td>Amsterdam</td>\n",
       "      <td>Software Engineer</td>\n",
       "      <td>8.0</td>\n",
       "      <td>Senior</td>\n",
       "      <td>1</td>\n",
       "      <td>C#</td>\n",
       "      <td>75000</td>\n",
       "      <td>56000</td>\n",
       "      <td>Full-time</td>\n",
       "      <td>1000+</td>\n",
       "      <td>Production</td>\n",
       "    </tr>\n",
       "    <tr>\n",
       "      <th>...</th>\n",
       "      <td>...</td>\n",
       "      <td>...</td>\n",
       "      <td>...</td>\n",
       "      <td>...</td>\n",
       "      <td>...</td>\n",
       "      <td>...</td>\n",
       "      <td>...</td>\n",
       "      <td>...</td>\n",
       "      <td>...</td>\n",
       "      <td>...</td>\n",
       "      <td>...</td>\n",
       "      <td>...</td>\n",
       "      <td>...</td>\n",
       "    </tr>\n",
       "    <tr>\n",
       "      <th>1244</th>\n",
       "      <td>28</td>\n",
       "      <td>Male</td>\n",
       "      <td>Zurich</td>\n",
       "      <td>Software Engineer</td>\n",
       "      <td>6.0</td>\n",
       "      <td>Middle</td>\n",
       "      <td>1</td>\n",
       "      <td>C++</td>\n",
       "      <td>100000</td>\n",
       "      <td>140000</td>\n",
       "      <td>Full-time</td>\n",
       "      <td>1000+</td>\n",
       "      <td>Production</td>\n",
       "    </tr>\n",
       "    <tr>\n",
       "      <th>1245</th>\n",
       "      <td>36</td>\n",
       "      <td>Male</td>\n",
       "      <td>Zurich</td>\n",
       "      <td>Software Engineer</td>\n",
       "      <td>15.0</td>\n",
       "      <td>Senior</td>\n",
       "      <td>1</td>\n",
       "      <td>C++</td>\n",
       "      <td>172000</td>\n",
       "      <td>169000</td>\n",
       "      <td>Full-time</td>\n",
       "      <td>1000+</td>\n",
       "      <td>Production</td>\n",
       "    </tr>\n",
       "    <tr>\n",
       "      <th>1246</th>\n",
       "      <td>37</td>\n",
       "      <td>Male</td>\n",
       "      <td>Zurich</td>\n",
       "      <td>Admin</td>\n",
       "      <td>20.0</td>\n",
       "      <td>Middle</td>\n",
       "      <td>1</td>\n",
       "      <td>Others</td>\n",
       "      <td>130000</td>\n",
       "      <td>125000</td>\n",
       "      <td>Full-time</td>\n",
       "      <td>1000+</td>\n",
       "      <td>Services</td>\n",
       "    </tr>\n",
       "    <tr>\n",
       "      <th>1247</th>\n",
       "      <td>34</td>\n",
       "      <td>Male</td>\n",
       "      <td>Zurich</td>\n",
       "      <td>Software Engineer</td>\n",
       "      <td>7.0</td>\n",
       "      <td>Senior</td>\n",
       "      <td>1</td>\n",
       "      <td>PHP</td>\n",
       "      <td>108500</td>\n",
       "      <td>90000</td>\n",
       "      <td>Full-time</td>\n",
       "      <td>1000+</td>\n",
       "      <td>Startup</td>\n",
       "    </tr>\n",
       "    <tr>\n",
       "      <th>1248</th>\n",
       "      <td>36</td>\n",
       "      <td>Male</td>\n",
       "      <td>Zurich</td>\n",
       "      <td>Data Scientist</td>\n",
       "      <td>5.0</td>\n",
       "      <td>Senior</td>\n",
       "      <td>1</td>\n",
       "      <td>Python</td>\n",
       "      <td>106000</td>\n",
       "      <td>0</td>\n",
       "      <td>Full-time</td>\n",
       "      <td>1000+</td>\n",
       "      <td>Production</td>\n",
       "    </tr>\n",
       "  </tbody>\n",
       "</table>\n",
       "<p>1249 rows × 13 columns</p>\n",
       "</div>"
      ],
      "text/plain": [
       "      Age  Gender       City          Position   Total_Y   Level  Num_Skill  \\\n",
       "0      37    Male     Aachen     Data Scientist     15.0  Senior          1   \n",
       "1      24    Male     Aachen              Admin      3.0  Junior          1   \n",
       "2      26    Male  Amsterdam     Data Scientist      2.0  Junior          1   \n",
       "3      28  Female  Amsterdam              Admin     10.0  Senior          1   \n",
       "4      33    Male  Amsterdam  Software Engineer      8.0  Senior          1   \n",
       "...   ...     ...        ...                ...      ...     ...        ...   \n",
       "1244   28    Male     Zurich  Software Engineer      6.0  Middle          1   \n",
       "1245   36    Male     Zurich  Software Engineer     15.0  Senior          1   \n",
       "1246   37    Male     Zurich              Admin     20.0  Middle          1   \n",
       "1247   34    Male     Zurich  Software Engineer      7.0  Senior          1   \n",
       "1248   36    Male     Zurich     Data Scientist      5.0  Senior          1   \n",
       "\n",
       "                  Main_Tech  Current_Salary  Prev_Salary      Status  \\\n",
       "0                    Python           70000            0   Full-time   \n",
       "1                    Python           10164            0  Part-time    \n",
       "2                    Python           48000        43000   Full-time   \n",
       "3     Business Intelligence           86000        75000   Full-time   \n",
       "4                        C#           75000        56000   Full-time   \n",
       "...                     ...             ...          ...         ...   \n",
       "1244                    C++          100000       140000   Full-time   \n",
       "1245                    C++          172000       169000   Full-time   \n",
       "1246                 Others          130000       125000   Full-time   \n",
       "1247                    PHP          108500        90000   Full-time   \n",
       "1248                 Python          106000            0   Full-time   \n",
       "\n",
       "     MaxComp_size        Company_type  \n",
       "0            1000          Production  \n",
       "1           1000+  Research Institute  \n",
       "2             100             Fintech  \n",
       "3           1000+          Production  \n",
       "4           1000+          Production  \n",
       "...           ...                 ...  \n",
       "1244        1000+          Production  \n",
       "1245        1000+          Production  \n",
       "1246        1000+            Services  \n",
       "1247        1000+             Startup  \n",
       "1248        1000+          Production  \n",
       "\n",
       "[1249 rows x 13 columns]"
      ]
     },
     "execution_count": 103,
     "metadata": {},
     "output_type": "execute_result"
    }
   ],
   "source": [
    "data[data.MaxComp_size=='NaN'].MaxComp_size.replace('NaN','1000+')\n",
    "data"
   ]
  },
  {
   "cell_type": "code",
   "execution_count": 104,
   "id": "b1f0d517",
   "metadata": {},
   "outputs": [
    {
     "data": {
      "text/plain": [
       "Gender\n",
       "Diverse      289000\n",
       "Female     11246175\n",
       "Male       77944887\n",
       "Name: Current_Salary, dtype: int32"
      ]
     },
     "execution_count": 104,
     "metadata": {},
     "output_type": "execute_result"
    }
   ],
   "source": [
    "data.groupby('Gender').Current_Salary.sum().astype(int)[:10]"
   ]
  },
  {
   "cell_type": "code",
   "execution_count": 105,
   "id": "148bf600",
   "metadata": {},
   "outputs": [],
   "source": [
    "data[data.Gender=='Male'].Gender.replace('Male','1')\n",
    "data.Gender.replace('Male','1',inplace=True)"
   ]
  },
  {
   "cell_type": "code",
   "execution_count": 106,
   "id": "4186d931",
   "metadata": {},
   "outputs": [],
   "source": [
    "data[data.Gender=='Female'].Gender.replace('Female','2')\n",
    "data.Gender.replace('Female','2',inplace=True)"
   ]
  },
  {
   "cell_type": "code",
   "execution_count": 107,
   "id": "4def5518",
   "metadata": {},
   "outputs": [],
   "source": [
    "data[data.Gender=='Diverse'].Gender.replace('Diverse','3')\n",
    "data.Gender.replace('Diverse','3',inplace=True)"
   ]
  },
  {
   "cell_type": "code",
   "execution_count": 108,
   "id": "8855efd2",
   "metadata": {},
   "outputs": [
    {
     "data": {
      "text/html": [
       "<div>\n",
       "<style scoped>\n",
       "    .dataframe tbody tr th:only-of-type {\n",
       "        vertical-align: middle;\n",
       "    }\n",
       "\n",
       "    .dataframe tbody tr th {\n",
       "        vertical-align: top;\n",
       "    }\n",
       "\n",
       "    .dataframe thead th {\n",
       "        text-align: right;\n",
       "    }\n",
       "</style>\n",
       "<table border=\"1\" class=\"dataframe\">\n",
       "  <thead>\n",
       "    <tr style=\"text-align: right;\">\n",
       "      <th></th>\n",
       "      <th>Age</th>\n",
       "      <th>Gender</th>\n",
       "      <th>City</th>\n",
       "      <th>Position</th>\n",
       "      <th>Total_Y</th>\n",
       "      <th>Level</th>\n",
       "      <th>Num_Skill</th>\n",
       "      <th>Main_Tech</th>\n",
       "      <th>Current_Salary</th>\n",
       "      <th>Prev_Salary</th>\n",
       "      <th>Status</th>\n",
       "      <th>MaxComp_size</th>\n",
       "      <th>Company_type</th>\n",
       "    </tr>\n",
       "  </thead>\n",
       "  <tbody>\n",
       "    <tr>\n",
       "      <th>0</th>\n",
       "      <td>37</td>\n",
       "      <td>1</td>\n",
       "      <td>Aachen</td>\n",
       "      <td>Data Scientist</td>\n",
       "      <td>15.0</td>\n",
       "      <td>Senior</td>\n",
       "      <td>1</td>\n",
       "      <td>Python</td>\n",
       "      <td>70000</td>\n",
       "      <td>0</td>\n",
       "      <td>Full-time</td>\n",
       "      <td>1000</td>\n",
       "      <td>Production</td>\n",
       "    </tr>\n",
       "    <tr>\n",
       "      <th>1</th>\n",
       "      <td>24</td>\n",
       "      <td>1</td>\n",
       "      <td>Aachen</td>\n",
       "      <td>Admin</td>\n",
       "      <td>3.0</td>\n",
       "      <td>Junior</td>\n",
       "      <td>1</td>\n",
       "      <td>Python</td>\n",
       "      <td>10164</td>\n",
       "      <td>0</td>\n",
       "      <td>Part-time</td>\n",
       "      <td>1000+</td>\n",
       "      <td>Research Institute</td>\n",
       "    </tr>\n",
       "    <tr>\n",
       "      <th>2</th>\n",
       "      <td>26</td>\n",
       "      <td>1</td>\n",
       "      <td>Amsterdam</td>\n",
       "      <td>Data Scientist</td>\n",
       "      <td>2.0</td>\n",
       "      <td>Junior</td>\n",
       "      <td>1</td>\n",
       "      <td>Python</td>\n",
       "      <td>48000</td>\n",
       "      <td>43000</td>\n",
       "      <td>Full-time</td>\n",
       "      <td>100</td>\n",
       "      <td>Fintech</td>\n",
       "    </tr>\n",
       "    <tr>\n",
       "      <th>3</th>\n",
       "      <td>28</td>\n",
       "      <td>2</td>\n",
       "      <td>Amsterdam</td>\n",
       "      <td>Admin</td>\n",
       "      <td>10.0</td>\n",
       "      <td>Senior</td>\n",
       "      <td>1</td>\n",
       "      <td>Business Intelligence</td>\n",
       "      <td>86000</td>\n",
       "      <td>75000</td>\n",
       "      <td>Full-time</td>\n",
       "      <td>1000+</td>\n",
       "      <td>Production</td>\n",
       "    </tr>\n",
       "    <tr>\n",
       "      <th>4</th>\n",
       "      <td>33</td>\n",
       "      <td>1</td>\n",
       "      <td>Amsterdam</td>\n",
       "      <td>Software Engineer</td>\n",
       "      <td>8.0</td>\n",
       "      <td>Senior</td>\n",
       "      <td>1</td>\n",
       "      <td>C#</td>\n",
       "      <td>75000</td>\n",
       "      <td>56000</td>\n",
       "      <td>Full-time</td>\n",
       "      <td>1000+</td>\n",
       "      <td>Production</td>\n",
       "    </tr>\n",
       "  </tbody>\n",
       "</table>\n",
       "</div>"
      ],
      "text/plain": [
       "   Age Gender       City          Position   Total_Y   Level  Num_Skill  \\\n",
       "0   37      1     Aachen     Data Scientist     15.0  Senior          1   \n",
       "1   24      1     Aachen              Admin      3.0  Junior          1   \n",
       "2   26      1  Amsterdam     Data Scientist      2.0  Junior          1   \n",
       "3   28      2  Amsterdam              Admin     10.0  Senior          1   \n",
       "4   33      1  Amsterdam  Software Engineer      8.0  Senior          1   \n",
       "\n",
       "               Main_Tech  Current_Salary  Prev_Salary      Status  \\\n",
       "0                 Python           70000            0   Full-time   \n",
       "1                 Python           10164            0  Part-time    \n",
       "2                 Python           48000        43000   Full-time   \n",
       "3  Business Intelligence           86000        75000   Full-time   \n",
       "4                     C#           75000        56000   Full-time   \n",
       "\n",
       "  MaxComp_size        Company_type  \n",
       "0         1000          Production  \n",
       "1        1000+  Research Institute  \n",
       "2          100             Fintech  \n",
       "3        1000+          Production  \n",
       "4        1000+          Production  "
      ]
     },
     "execution_count": 108,
     "metadata": {},
     "output_type": "execute_result"
    }
   ],
   "source": [
    "data.head()"
   ]
  },
  {
   "cell_type": "code",
   "execution_count": 109,
   "id": "d697f7d0",
   "metadata": {
    "scrolled": true
   },
   "outputs": [
    {
     "data": {
      "text/plain": [
       "0.30500254469378507"
      ]
     },
     "execution_count": 109,
     "metadata": {},
     "output_type": "execute_result"
    }
   ],
   "source": [
    "data['Total_Y'].corr(data['Current_Salary'])"
   ]
  },
  {
   "cell_type": "code",
   "execution_count": 112,
   "id": "efd5d1cf",
   "metadata": {},
   "outputs": [
    {
     "data": {
      "text/html": [
       "<div>\n",
       "<style scoped>\n",
       "    .dataframe tbody tr th:only-of-type {\n",
       "        vertical-align: middle;\n",
       "    }\n",
       "\n",
       "    .dataframe tbody tr th {\n",
       "        vertical-align: top;\n",
       "    }\n",
       "\n",
       "    .dataframe thead th {\n",
       "        text-align: right;\n",
       "    }\n",
       "</style>\n",
       "<table border=\"1\" class=\"dataframe\">\n",
       "  <thead>\n",
       "    <tr style=\"text-align: right;\">\n",
       "      <th></th>\n",
       "      <th>Age</th>\n",
       "      <th>Gender</th>\n",
       "      <th>City</th>\n",
       "      <th>Position</th>\n",
       "      <th>Total_Y</th>\n",
       "      <th>Level</th>\n",
       "      <th>Num_Skill</th>\n",
       "      <th>Main_Tech</th>\n",
       "      <th>Current_Salary</th>\n",
       "      <th>Prev_Salary</th>\n",
       "      <th>Status</th>\n",
       "      <th>MaxComp_size</th>\n",
       "      <th>Company_type</th>\n",
       "    </tr>\n",
       "  </thead>\n",
       "  <tbody>\n",
       "    <tr>\n",
       "      <th>0</th>\n",
       "      <td>37</td>\n",
       "      <td>1</td>\n",
       "      <td>Aachen</td>\n",
       "      <td>Data Scientist</td>\n",
       "      <td>15.0</td>\n",
       "      <td>Senior</td>\n",
       "      <td>1</td>\n",
       "      <td>Python</td>\n",
       "      <td>70000</td>\n",
       "      <td>0</td>\n",
       "      <td>Full-time</td>\n",
       "      <td>1000</td>\n",
       "      <td>Production</td>\n",
       "    </tr>\n",
       "    <tr>\n",
       "      <th>1</th>\n",
       "      <td>24</td>\n",
       "      <td>1</td>\n",
       "      <td>Aachen</td>\n",
       "      <td>Admin</td>\n",
       "      <td>3.0</td>\n",
       "      <td>Junior</td>\n",
       "      <td>1</td>\n",
       "      <td>Python</td>\n",
       "      <td>10164</td>\n",
       "      <td>0</td>\n",
       "      <td>Part-time</td>\n",
       "      <td>1000+</td>\n",
       "      <td>Research Institute</td>\n",
       "    </tr>\n",
       "    <tr>\n",
       "      <th>2</th>\n",
       "      <td>26</td>\n",
       "      <td>1</td>\n",
       "      <td>Amsterdam</td>\n",
       "      <td>Data Scientist</td>\n",
       "      <td>2.0</td>\n",
       "      <td>Junior</td>\n",
       "      <td>1</td>\n",
       "      <td>Python</td>\n",
       "      <td>48000</td>\n",
       "      <td>43000</td>\n",
       "      <td>Full-time</td>\n",
       "      <td>100</td>\n",
       "      <td>Fintech</td>\n",
       "    </tr>\n",
       "    <tr>\n",
       "      <th>3</th>\n",
       "      <td>28</td>\n",
       "      <td>2</td>\n",
       "      <td>Amsterdam</td>\n",
       "      <td>Admin</td>\n",
       "      <td>10.0</td>\n",
       "      <td>Senior</td>\n",
       "      <td>1</td>\n",
       "      <td>Business Intelligence</td>\n",
       "      <td>86000</td>\n",
       "      <td>75000</td>\n",
       "      <td>Full-time</td>\n",
       "      <td>1000+</td>\n",
       "      <td>Production</td>\n",
       "    </tr>\n",
       "    <tr>\n",
       "      <th>4</th>\n",
       "      <td>33</td>\n",
       "      <td>1</td>\n",
       "      <td>Amsterdam</td>\n",
       "      <td>Software Engineer</td>\n",
       "      <td>8.0</td>\n",
       "      <td>Senior</td>\n",
       "      <td>1</td>\n",
       "      <td>C#</td>\n",
       "      <td>75000</td>\n",
       "      <td>56000</td>\n",
       "      <td>Full-time</td>\n",
       "      <td>1000+</td>\n",
       "      <td>Production</td>\n",
       "    </tr>\n",
       "  </tbody>\n",
       "</table>\n",
       "</div>"
      ],
      "text/plain": [
       "   Age Gender       City          Position   Total_Y   Level  Num_Skill  \\\n",
       "0   37      1     Aachen     Data Scientist     15.0  Senior          1   \n",
       "1   24      1     Aachen              Admin      3.0  Junior          1   \n",
       "2   26      1  Amsterdam     Data Scientist      2.0  Junior          1   \n",
       "3   28      2  Amsterdam              Admin     10.0  Senior          1   \n",
       "4   33      1  Amsterdam  Software Engineer      8.0  Senior          1   \n",
       "\n",
       "               Main_Tech  Current_Salary  Prev_Salary      Status  \\\n",
       "0                 Python           70000            0   Full-time   \n",
       "1                 Python           10164            0  Part-time    \n",
       "2                 Python           48000        43000   Full-time   \n",
       "3  Business Intelligence           86000        75000   Full-time   \n",
       "4                     C#           75000        56000   Full-time   \n",
       "\n",
       "  MaxComp_size        Company_type  \n",
       "0         1000          Production  \n",
       "1        1000+  Research Institute  \n",
       "2          100             Fintech  \n",
       "3        1000+          Production  \n",
       "4        1000+          Production  "
      ]
     },
     "execution_count": 112,
     "metadata": {},
     "output_type": "execute_result"
    }
   ],
   "source": [
    "data.head()"
   ]
  },
  {
   "cell_type": "code",
   "execution_count": 125,
   "id": "5e8befe1",
   "metadata": {},
   "outputs": [
    {
     "data": {
      "text/plain": [
       "Company_type\n",
       "E-commerce             1078200\n",
       "Fintech                 905000\n",
       "Production            56912244\n",
       "Research Institute      573164\n",
       "Services              11962101\n",
       "Startup               18049353\n",
       "Name: Current_Salary, dtype: int32"
      ]
     },
     "execution_count": 125,
     "metadata": {},
     "output_type": "execute_result"
    }
   ],
   "source": [
    "Yale=data.groupby('Company_type').Current_Salary.sum().astype(int)[:10]\n",
    "Yale"
   ]
  },
  {
   "cell_type": "code",
   "execution_count": 120,
   "id": "18411761",
   "metadata": {},
   "outputs": [
    {
     "data": {
      "text/plain": [
       "<AxesSubplot:ylabel='Current_Salary'>"
      ]
     },
     "execution_count": 120,
     "metadata": {},
     "output_type": "execute_result"
    },
    {
     "data": {
      "image/png": "[encoded data removed]",
      "text/plain": [
       "<Figure size 432x288 with 1 Axes>"
      ]
     },
     "metadata": {},
     "output_type": "display_data"
    }
   ],
   "source": [
    "Yale.plot.pie()"
   ]
  },
  {
   "cell_type": "code",
   "execution_count": 122,
   "id": "a715a64e",
   "metadata": {},
   "outputs": [
    {
     "data": {
      "text/plain": [
       "<AxesSubplot:>"
      ]
     },
     "execution_count": 122,
     "metadata": {},
     "output_type": "execute_result"
    },
    {
     "data": {
      "image/png": "[encoded data removed]",
      "text/plain": [
       "<Figure size 720x720 with 2 Axes>"
      ]
     },
     "metadata": {
      "needs_background": "light"
     },
     "output_type": "display_data"
    }
   ],
   "source": [
    "import seaborn as sns\n",
    "import matplotlib.pyplot as plt\n",
    "plt.figure(figsize=(10,10))\n",
    "sns.heatmap(data.corr())"
   ]
  },
  {
   "cell_type": "code",
   "execution_count": 133,
   "id": "c96d1bac",
   "metadata": {},
   "outputs": [
    {
     "data": {
      "text/plain": [
       "Position \n",
       "Admin                 8738074\n",
       "Data Scientist       19721800\n",
       "Software Engineer    59820488\n",
       "UI/UX Designer        1199700\n",
       "Name: Current_Salary, dtype: int64"
      ]
     },
     "execution_count": 133,
     "metadata": {},
     "output_type": "execute_result"
    }
   ],
   "source": [
    "Bale=data.groupby('Position ').Current_Salary.sum()\n",
    "Bale"
   ]
  },
  {
   "cell_type": "code",
   "execution_count": 134,
   "id": "389a1e3e",
   "metadata": {},
   "outputs": [
    {
     "data": {
      "text/plain": [
       "<AxesSubplot:ylabel='Current_Salary'>"
      ]
     },
     "execution_count": 134,
     "metadata": {},
     "output_type": "execute_result"
    },
    {
     "data": {
      "image/png": "[encoded data removed]",
      "text/plain": [
       "<Figure size 432x288 with 1 Axes>"
      ]
     },
     "metadata": {},
     "output_type": "display_data"
    }
   ],
   "source": [
    "Bale.plot.pie()"
   ]
  },
  {
   "cell_type": "code",
   "execution_count": 139,
   "id": "e62addf1",
   "metadata": {},
   "outputs": [
    {
     "data": {
      "text/plain": [
       "<Figure size 4320x4320 with 0 Axes>"
      ]
     },
     "execution_count": 139,
     "metadata": {},
     "output_type": "execute_result"
    },
    {
     "data": {
      "image/png": "[encoded data removed]",
      "text/plain": [
       "<Figure size 432x288 with 1 Axes>"
      ]
     },
     "metadata": {},
     "output_type": "display_data"
    },
    {
     "data": {
      "text/plain": [
       "<Figure size 4320x4320 with 0 Axes>"
      ]
     },
     "metadata": {},
     "output_type": "display_data"
    }
   ],
   "source": [
    "data.Main_Tech.value_counts().plot.pie()"
   ]
  },
  {
   "cell_type": "code",
   "execution_count": 141,
   "id": "66cc7cf1",
   "metadata": {},
   "outputs": [
    {
     "data": {
      "text/plain": [
       "<AxesSubplot:>"
      ]
     },
     "execution_count": 141,
     "metadata": {},
     "output_type": "execute_result"
    },
    {
     "data": {
      "image/png": "[encoded data removed]",
      "text/plain": [
       "<Figure size 432x288 with 1 Axes>"
      ]
     },
     "metadata": {
      "needs_background": "light"
     },
     "output_type": "display_data"
    }
   ],
   "source": [
    "data.Level.value_counts().plot.bar()"
   ]
  },
  {
   "cell_type": "code",
   "execution_count": 142,
   "id": "76b71ff0",
   "metadata": {},
   "outputs": [
    {
     "data": {
      "text/plain": [
       "Level\n",
       "Junior        4427784\n",
       "Middle       21624603\n",
       "Senior       48699705\n",
       "Team Lead    14727970\n",
       "Name: Current_Salary, dtype: int32"
      ]
     },
     "execution_count": 142,
     "metadata": {},
     "output_type": "execute_result"
    }
   ],
   "source": [
    "Gale=data.groupby('Level').Current_Salary.sum().astype(int)[:10]\n",
    "Gale"
   ]
  },
  {
   "cell_type": "code",
   "execution_count": null,
   "id": "6a8f69d6",
   "metadata": {},
   "outputs": [],
   "source": []
  }
 ],
 "metadata": {
  "kernelspec": {
   "display_name": "Python 3 (ipykernel)",
   "language": "python",
   "name": "python3"
  },
  "language_info": {
   "codemirror_mode": {
    "name": "ipython",
    "version": 3
   },
   "file_extension": ".py",
   "mimetype": "text/x-python",
   "name": "python",
   "nbconvert_exporter": "python",
   "pygments_lexer": "ipython3",
   "version": "3.9.12"
  }
 },
 "nbformat": 4,
 "nbformat_minor": 5
}
